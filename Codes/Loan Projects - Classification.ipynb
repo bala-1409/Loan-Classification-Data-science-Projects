{
 "cells": [
  {
   "cell_type": "markdown",
   "id": "35e0cf0e",
   "metadata": {},
   "source": [
    "# _Loan Project - Classification_\n",
    "**_Importing the required libraries & packages_**"
   ]
  },
  {
   "cell_type": "code",
   "execution_count": 1,
   "id": "fc57ca30",
   "metadata": {},
   "outputs": [],
   "source": [
    "import numpy as np\n",
    "import pandas as pd\n",
    "import matplotlib.pyplot as plt\n",
    "import seaborn as sns\n",
    "import os\n",
    "%matplotlib inline\n",
    "plt.rcParams['figure.figsize']=(20,10)\n",
    "from sklearn.model_selection import train_test_split,GridSearchCV\n",
    "from sklearn.preprocessing import StandardScaler\n",
    "from sklearn.metrics import accuracy_score,confusion_matrix,classification_report\n",
    "from sklearn.linear_model import LogisticRegression\n",
    "from sklearn.ensemble import RandomForestClassifier\n",
    "from sklearn.tree import DecisionTreeClassifier\n",
    "from sklearn.neighbors import KNeighborsClassifier\n",
    "from sklearn.svm import SVC\n",
    "from xgboost import XGBClassifier\n",
    "from catboost import CatBoostClassifier\n",
    "from lightgbm import LGBMClassifier\n",
    "import pickle\n",
    "from sklearn.metrics import mean_absolute_error,mean_squared_error\n",
    "from math import sqrt\n",
    "import pyodbc\n",
    "import warnings\n",
    "warnings.filterwarnings('ignore')"
   ]
  },
  {
   "cell_type": "markdown",
   "id": "9311d7ef",
   "metadata": {},
   "source": [
    "## _Data Reading_\n",
    "**_Processed the input data using Structured Query Language (SQL) and done some cleaning,with the help of <span style='color:violet'> pyodbc </span> package connecting Jupyter Notebook with sql server in the following 3 cells._**"
   ]
  },
  {
   "cell_type": "code",
   "execution_count": 2,
   "id": "3850dce7",
   "metadata": {},
   "outputs": [],
   "source": [
    "server = 'BALA\\SQLEXPRESS'\n",
    "db = 'Projects'"
   ]
  },
  {
   "cell_type": "code",
   "execution_count": 3,
   "id": "e9adcc42",
   "metadata": {},
   "outputs": [],
   "source": [
    "conn = pyodbc.connect ('DRIVER= {SQL Server}; SERVER='+server+';DATABASE='+db+ ';UID=bala sql;PWD=bala2252bala; Trusted connection=YES')"
   ]
  },
  {
   "cell_type": "code",
   "execution_count": 4,
   "id": "e42bc503",
   "metadata": {},
   "outputs": [],
   "source": [
    "sql = 'select * from acc_ord_card_disp_client_dist aocdcd join loan_trans lt on lt.account_id= aocdcd.disposition_account_id'"
   ]
  },
  {
   "cell_type": "markdown",
   "id": "cbcd377f",
   "metadata": {},
   "source": [
    "**_Changing The Default Working Directory Path_**"
   ]
  },
  {
   "cell_type": "code",
   "execution_count": 5,
   "id": "94e30489",
   "metadata": {},
   "outputs": [],
   "source": [
    "os.chdir('C:\\\\Users\\\\chand\\\\OneDrive\\\\Desktop\\\\Loan projects\\\\')"
   ]
  },
  {
   "cell_type": "markdown",
   "id": "35bd8732",
   "metadata": {},
   "source": [
    "**_Reading The SQL File Using Pandas Command_**"
   ]
  },
  {
   "cell_type": "code",
   "execution_count": 6,
   "id": "4669f235",
   "metadata": {},
   "outputs": [],
   "source": [
    "df = pd.read_sql(sql,conn)"
   ]
  },
  {
   "cell_type": "markdown",
   "id": "eb30a518",
   "metadata": {},
   "source": [
    "**_Exporting the data after processing in SQL, the final data is converted to comma seperated file(csv)._**"
   ]
  },
  {
   "cell_type": "code",
   "execution_count": 7,
   "id": "87cd1614",
   "metadata": {},
   "outputs": [],
   "source": [
    "df.to_csv('Loan_Final_Data.csv',index=False)"
   ]
  },
  {
   "cell_type": "markdown",
   "id": "adbf66db",
   "metadata": {},
   "source": [
    "## _Exploratory Data Analysis_\n",
    "**_Checking the Null values of all the Columns in the dataset_**"
   ]
  },
  {
   "cell_type": "code",
   "execution_count": 8,
   "id": "cff7ff17",
   "metadata": {},
   "outputs": [
    {
     "data": {
      "text/plain": [
       "card_id                     0\n",
       "disp_id                     0\n",
       "type                        0\n",
       "issued                      0\n",
       "disposition_account_id      0\n",
       "disposition_client_id       0\n",
       "disposition_type            0\n",
       "client_id                   0\n",
       "birth_number                0\n",
       "district_id                 0\n",
       "A1                          0\n",
       "A2                          0\n",
       "A3                          0\n",
       "A4                          0\n",
       "A5                          0\n",
       "A6                          0\n",
       "A7                          0\n",
       "A8                          0\n",
       "A9                          0\n",
       "A10                         0\n",
       "A11                         0\n",
       "A12                         0\n",
       "A13                         0\n",
       "A14                         0\n",
       "A15                         0\n",
       "A16                         0\n",
       "order_id                    0\n",
       "bank_to                     0\n",
       "account_to                  0\n",
       "amount                      0\n",
       "k_symbol                    0\n",
       "account_date                0\n",
       "account_district_id         0\n",
       "account_frequency           0\n",
       "trans_id                    0\n",
       "account_id                  0\n",
       "date                        0\n",
       "type                        0\n",
       "operation                 157\n",
       "amount                      0\n",
       "balance                     0\n",
       "k_symbol                  602\n",
       "bank                      714\n",
       "account                   663\n",
       "loan_id                     0\n",
       "loan_date                   0\n",
       "loan_amount                 0\n",
       "loan_duration               0\n",
       "loan_payments               0\n",
       "loan_status                 0\n",
       "dtype: int64"
      ]
     },
     "execution_count": 8,
     "metadata": {},
     "output_type": "execute_result"
    }
   ],
   "source": [
    "df.isna().sum()"
   ]
  },
  {
   "cell_type": "markdown",
   "id": "3a006266",
   "metadata": {},
   "source": [
    "**_Checking the dataset whether its is having a duplicate values or not_**"
   ]
  },
  {
   "cell_type": "code",
   "execution_count": 9,
   "id": "c2125a0e",
   "metadata": {},
   "outputs": [
    {
     "data": {
      "text/plain": [
       "0"
      ]
     },
     "execution_count": 9,
     "metadata": {},
     "output_type": "execute_result"
    }
   ],
   "source": [
    "df.duplicated().sum()"
   ]
  },
  {
   "cell_type": "markdown",
   "id": "9b26fc46",
   "metadata": {},
   "source": [
    "**_Getting to describe the numerical columns of the dataset_**"
   ]
  },
  {
   "cell_type": "code",
   "execution_count": 10,
   "id": "823e94a9",
   "metadata": {},
   "outputs": [
    {
     "data": {
      "text/html": [
       "<div>\n",
       "<style scoped>\n",
       "    .dataframe tbody tr th:only-of-type {\n",
       "        vertical-align: middle;\n",
       "    }\n",
       "\n",
       "    .dataframe tbody tr th {\n",
       "        vertical-align: top;\n",
       "    }\n",
       "\n",
       "    .dataframe thead th {\n",
       "        text-align: right;\n",
       "    }\n",
       "</style>\n",
       "<table border=\"1\" class=\"dataframe\">\n",
       "  <thead>\n",
       "    <tr style=\"text-align: right;\">\n",
       "      <th></th>\n",
       "      <th>card_id</th>\n",
       "      <th>disp_id</th>\n",
       "      <th>disposition_account_id</th>\n",
       "      <th>disposition_client_id</th>\n",
       "      <th>client_id</th>\n",
       "      <th>birth_number</th>\n",
       "      <th>district_id</th>\n",
       "      <th>A1</th>\n",
       "      <th>A4</th>\n",
       "      <th>A5</th>\n",
       "      <th>...</th>\n",
       "      <th>account_district_id</th>\n",
       "      <th>trans_id</th>\n",
       "      <th>account_id</th>\n",
       "      <th>amount</th>\n",
       "      <th>balance</th>\n",
       "      <th>account</th>\n",
       "      <th>loan_id</th>\n",
       "      <th>loan_amount</th>\n",
       "      <th>loan_duration</th>\n",
       "      <th>loan_payments</th>\n",
       "    </tr>\n",
       "  </thead>\n",
       "  <tbody>\n",
       "    <tr>\n",
       "      <th>count</th>\n",
       "      <td>868.000000</td>\n",
       "      <td>868.000000</td>\n",
       "      <td>868.000000</td>\n",
       "      <td>868.000000</td>\n",
       "      <td>868.000000</td>\n",
       "      <td>868.000000</td>\n",
       "      <td>868.000000</td>\n",
       "      <td>868.000000</td>\n",
       "      <td>8.680000e+02</td>\n",
       "      <td>868.000000</td>\n",
       "      <td>...</td>\n",
       "      <td>868.000000</td>\n",
       "      <td>8.680000e+02</td>\n",
       "      <td>868.000000</td>\n",
       "      <td>868.000000</td>\n",
       "      <td>868.000000</td>\n",
       "      <td>2.050000e+02</td>\n",
       "      <td>868.000000</td>\n",
       "      <td>868.000000</td>\n",
       "      <td>868.000000</td>\n",
       "      <td>868.000000</td>\n",
       "    </tr>\n",
       "    <tr>\n",
       "      <th>mean</th>\n",
       "      <td>907.690092</td>\n",
       "      <td>8139.987327</td>\n",
       "      <td>6767.154378</td>\n",
       "      <td>8265.955069</td>\n",
       "      <td>8265.955069</td>\n",
       "      <td>685696.934332</td>\n",
       "      <td>37.332949</td>\n",
       "      <td>37.332949</td>\n",
       "      <td>1.407953e+05</td>\n",
       "      <td>41.294931</td>\n",
       "      <td>...</td>\n",
       "      <td>39.427419</td>\n",
       "      <td>2.276811e+06</td>\n",
       "      <td>6767.154378</td>\n",
       "      <td>13533.202650</td>\n",
       "      <td>51020.558765</td>\n",
       "      <td>3.346704e+07</td>\n",
       "      <td>6374.570276</td>\n",
       "      <td>124083.428571</td>\n",
       "      <td>27.069124</td>\n",
       "      <td>4954.557604</td>\n",
       "    </tr>\n",
       "    <tr>\n",
       "      <th>std</th>\n",
       "      <td>238.683175</td>\n",
       "      <td>3244.507382</td>\n",
       "      <td>2715.120458</td>\n",
       "      <td>3376.937067</td>\n",
       "      <td>3376.937067</td>\n",
       "      <td>149850.689100</td>\n",
       "      <td>23.864496</td>\n",
       "      <td>23.864496</td>\n",
       "      <td>1.281183e+05</td>\n",
       "      <td>23.132398</td>\n",
       "      <td>...</td>\n",
       "      <td>25.833877</td>\n",
       "      <td>9.593156e+05</td>\n",
       "      <td>2715.120458</td>\n",
       "      <td>15346.995182</td>\n",
       "      <td>28746.846180</td>\n",
       "      <td>3.115044e+07</td>\n",
       "      <td>561.596458</td>\n",
       "      <td>74014.846356</td>\n",
       "      <td>16.620600</td>\n",
       "      <td>2019.525078</td>\n",
       "    </tr>\n",
       "    <tr>\n",
       "      <th>min</th>\n",
       "      <td>159.000000</td>\n",
       "      <td>946.000000</td>\n",
       "      <td>790.000000</td>\n",
       "      <td>946.000000</td>\n",
       "      <td>946.000000</td>\n",
       "      <td>351003.000000</td>\n",
       "      <td>1.000000</td>\n",
       "      <td>1.000000</td>\n",
       "      <td>5.131300e+04</td>\n",
       "      <td>0.000000</td>\n",
       "      <td>...</td>\n",
       "      <td>1.000000</td>\n",
       "      <td>2.320620e+05</td>\n",
       "      <td>790.000000</td>\n",
       "      <td>5.400000</td>\n",
       "      <td>200.000000</td>\n",
       "      <td>0.000000e+00</td>\n",
       "      <td>5126.000000</td>\n",
       "      <td>14628.000000</td>\n",
       "      <td>12.000000</td>\n",
       "      <td>1177.000000</td>\n",
       "    </tr>\n",
       "    <tr>\n",
       "      <th>25%</th>\n",
       "      <td>844.000000</td>\n",
       "      <td>6567.000000</td>\n",
       "      <td>5442.000000</td>\n",
       "      <td>6567.000000</td>\n",
       "      <td>6567.000000</td>\n",
       "      <td>570929.000000</td>\n",
       "      <td>14.000000</td>\n",
       "      <td>14.000000</td>\n",
       "      <td>8.651300e+04</td>\n",
       "      <td>21.000000</td>\n",
       "      <td>...</td>\n",
       "      <td>12.000000</td>\n",
       "      <td>1.602809e+06</td>\n",
       "      <td>5442.000000</td>\n",
       "      <td>306.224991</td>\n",
       "      <td>31045.900391</td>\n",
       "      <td>7.772154e+06</td>\n",
       "      <td>6112.000000</td>\n",
       "      <td>78939.000000</td>\n",
       "      <td>12.000000</td>\n",
       "      <td>3222.000000</td>\n",
       "    </tr>\n",
       "    <tr>\n",
       "      <th>50%</th>\n",
       "      <td>857.000000</td>\n",
       "      <td>6789.000000</td>\n",
       "      <td>5622.000000</td>\n",
       "      <td>6789.000000</td>\n",
       "      <td>6789.000000</td>\n",
       "      <td>780907.000000</td>\n",
       "      <td>32.000000</td>\n",
       "      <td>32.000000</td>\n",
       "      <td>1.050580e+05</td>\n",
       "      <td>34.000000</td>\n",
       "      <td>...</td>\n",
       "      <td>45.000000</td>\n",
       "      <td>1.852832e+06</td>\n",
       "      <td>5622.000000</td>\n",
       "      <td>7000.000000</td>\n",
       "      <td>47310.150391</td>\n",
       "      <td>2.417564e+07</td>\n",
       "      <td>6150.000000</td>\n",
       "      <td>105804.000000</td>\n",
       "      <td>24.000000</td>\n",
       "      <td>4579.000000</td>\n",
       "    </tr>\n",
       "    <tr>\n",
       "      <th>75%</th>\n",
       "      <td>1100.000000</td>\n",
       "      <td>11101.000000</td>\n",
       "      <td>9265.000000</td>\n",
       "      <td>11409.000000</td>\n",
       "      <td>11409.000000</td>\n",
       "      <td>790326.000000</td>\n",
       "      <td>57.000000</td>\n",
       "      <td>57.000000</td>\n",
       "      <td>1.619540e+05</td>\n",
       "      <td>65.000000</td>\n",
       "      <td>...</td>\n",
       "      <td>62.000000</td>\n",
       "      <td>3.314625e+06</td>\n",
       "      <td>9265.000000</td>\n",
       "      <td>22933.750000</td>\n",
       "      <td>67505.726562</td>\n",
       "      <td>6.987126e+07</td>\n",
       "      <td>6888.000000</td>\n",
       "      <td>174744.000000</td>\n",
       "      <td>36.000000</td>\n",
       "      <td>6918.000000</td>\n",
       "    </tr>\n",
       "    <tr>\n",
       "      <th>max</th>\n",
       "      <td>1223.000000</td>\n",
       "      <td>13231.000000</td>\n",
       "      <td>11013.000000</td>\n",
       "      <td>13539.000000</td>\n",
       "      <td>13539.000000</td>\n",
       "      <td>805502.000000</td>\n",
       "      <td>74.000000</td>\n",
       "      <td>74.000000</td>\n",
       "      <td>1.204953e+06</td>\n",
       "      <td>98.000000</td>\n",
       "      <td>...</td>\n",
       "      <td>74.000000</td>\n",
       "      <td>3.675971e+06</td>\n",
       "      <td>11013.000000</td>\n",
       "      <td>63366.000000</td>\n",
       "      <td>143605.703125</td>\n",
       "      <td>9.867897e+07</td>\n",
       "      <td>7240.000000</td>\n",
       "      <td>331560.000000</td>\n",
       "      <td>60.000000</td>\n",
       "      <td>7281.000000</td>\n",
       "    </tr>\n",
       "  </tbody>\n",
       "</table>\n",
       "<p>8 rows × 34 columns</p>\n",
       "</div>"
      ],
      "text/plain": [
       "           card_id       disp_id  disposition_account_id  \\\n",
       "count   868.000000    868.000000              868.000000   \n",
       "mean    907.690092   8139.987327             6767.154378   \n",
       "std     238.683175   3244.507382             2715.120458   \n",
       "min     159.000000    946.000000              790.000000   \n",
       "25%     844.000000   6567.000000             5442.000000   \n",
       "50%     857.000000   6789.000000             5622.000000   \n",
       "75%    1100.000000  11101.000000             9265.000000   \n",
       "max    1223.000000  13231.000000            11013.000000   \n",
       "\n",
       "       disposition_client_id     client_id   birth_number  district_id  \\\n",
       "count             868.000000    868.000000     868.000000   868.000000   \n",
       "mean             8265.955069   8265.955069  685696.934332    37.332949   \n",
       "std              3376.937067   3376.937067  149850.689100    23.864496   \n",
       "min               946.000000    946.000000  351003.000000     1.000000   \n",
       "25%              6567.000000   6567.000000  570929.000000    14.000000   \n",
       "50%              6789.000000   6789.000000  780907.000000    32.000000   \n",
       "75%             11409.000000  11409.000000  790326.000000    57.000000   \n",
       "max             13539.000000  13539.000000  805502.000000    74.000000   \n",
       "\n",
       "               A1            A4          A5  ...  account_district_id  \\\n",
       "count  868.000000  8.680000e+02  868.000000  ...           868.000000   \n",
       "mean    37.332949  1.407953e+05   41.294931  ...            39.427419   \n",
       "std     23.864496  1.281183e+05   23.132398  ...            25.833877   \n",
       "min      1.000000  5.131300e+04    0.000000  ...             1.000000   \n",
       "25%     14.000000  8.651300e+04   21.000000  ...            12.000000   \n",
       "50%     32.000000  1.050580e+05   34.000000  ...            45.000000   \n",
       "75%     57.000000  1.619540e+05   65.000000  ...            62.000000   \n",
       "max     74.000000  1.204953e+06   98.000000  ...            74.000000   \n",
       "\n",
       "           trans_id    account_id        amount        balance       account  \\\n",
       "count  8.680000e+02    868.000000    868.000000     868.000000  2.050000e+02   \n",
       "mean   2.276811e+06   6767.154378  13533.202650   51020.558765  3.346704e+07   \n",
       "std    9.593156e+05   2715.120458  15346.995182   28746.846180  3.115044e+07   \n",
       "min    2.320620e+05    790.000000      5.400000     200.000000  0.000000e+00   \n",
       "25%    1.602809e+06   5442.000000    306.224991   31045.900391  7.772154e+06   \n",
       "50%    1.852832e+06   5622.000000   7000.000000   47310.150391  2.417564e+07   \n",
       "75%    3.314625e+06   9265.000000  22933.750000   67505.726562  6.987126e+07   \n",
       "max    3.675971e+06  11013.000000  63366.000000  143605.703125  9.867897e+07   \n",
       "\n",
       "           loan_id    loan_amount  loan_duration  loan_payments  \n",
       "count   868.000000     868.000000     868.000000     868.000000  \n",
       "mean   6374.570276  124083.428571      27.069124    4954.557604  \n",
       "std     561.596458   74014.846356      16.620600    2019.525078  \n",
       "min    5126.000000   14628.000000      12.000000    1177.000000  \n",
       "25%    6112.000000   78939.000000      12.000000    3222.000000  \n",
       "50%    6150.000000  105804.000000      24.000000    4579.000000  \n",
       "75%    6888.000000  174744.000000      36.000000    6918.000000  \n",
       "max    7240.000000  331560.000000      60.000000    7281.000000  \n",
       "\n",
       "[8 rows x 34 columns]"
      ]
     },
     "execution_count": 10,
     "metadata": {},
     "output_type": "execute_result"
    }
   ],
   "source": [
    "df.describe()"
   ]
  },
  {
   "cell_type": "markdown",
   "id": "2d555ed8",
   "metadata": {},
   "source": [
    "**_Finding the shape of the dataset_**"
   ]
  },
  {
   "cell_type": "code",
   "execution_count": 11,
   "id": "64dfff2f",
   "metadata": {},
   "outputs": [
    {
     "data": {
      "text/plain": [
       "(868, 50)"
      ]
     },
     "execution_count": 11,
     "metadata": {},
     "output_type": "execute_result"
    }
   ],
   "source": [
    "df.shape"
   ]
  },
  {
   "cell_type": "markdown",
   "id": "d42f1f44",
   "metadata": {},
   "source": [
    "**_Since it has many columns,to extract the columns we need getting all the column names. so that we can identify the necessary columns_**"
   ]
  },
  {
   "cell_type": "code",
   "execution_count": 12,
   "id": "7c765019",
   "metadata": {},
   "outputs": [
    {
     "data": {
      "text/plain": [
       "Index(['card_id', 'disp_id', 'type', 'issued', 'disposition_account_id',\n",
       "       'disposition_client_id', 'disposition_type', 'client_id',\n",
       "       'birth_number', 'district_id', 'A1', 'A2', 'A3', 'A4', 'A5', 'A6', 'A7',\n",
       "       'A8', 'A9', 'A10', 'A11', 'A12', 'A13', 'A14', 'A15', 'A16', 'order_id',\n",
       "       'bank_to', 'account_to', 'amount', 'k_symbol', 'account_date',\n",
       "       'account_district_id', 'account_frequency', 'trans_id', 'account_id',\n",
       "       'date', 'type', 'operation', 'amount', 'balance', 'k_symbol', 'bank',\n",
       "       'account', 'loan_id', 'loan_date', 'loan_amount', 'loan_duration',\n",
       "       'loan_payments', 'loan_status'],\n",
       "      dtype='object')"
      ]
     },
     "execution_count": 12,
     "metadata": {},
     "output_type": "execute_result"
    }
   ],
   "source": [
    "df.columns"
   ]
  },
  {
   "cell_type": "markdown",
   "id": "d0115bfc",
   "metadata": {},
   "source": [
    "## _Data Cleaning_\n",
    "**_Checking the value counts for `loan_status` columns from the dataset_**"
   ]
  },
  {
   "cell_type": "code",
   "execution_count": 13,
   "id": "62f99b2f",
   "metadata": {},
   "outputs": [
    {
     "data": {
      "text/plain": [
       "A    648\n",
       "B    168\n",
       "C     51\n",
       "D      1\n",
       "Name: loan_status, dtype: int64"
      ]
     },
     "execution_count": 13,
     "metadata": {},
     "output_type": "execute_result"
    }
   ],
   "source": [
    "df['loan_status'].value_counts()"
   ]
  },
  {
   "cell_type": "markdown",
   "id": "f1a2bdce",
   "metadata": {},
   "source": [
    "**_Label Encoding the <span style='color:blue'>loan_status</span> columns using mapping function._**"
   ]
  },
  {
   "cell_type": "code",
   "execution_count": 14,
   "id": "9edd740d",
   "metadata": {},
   "outputs": [],
   "source": [
    "df['loan_status']=df['loan_status'].map({'A':0,'B':1,'C':2,'D':3})"
   ]
  },
  {
   "cell_type": "markdown",
   "id": "4554f7e6",
   "metadata": {},
   "source": [
    "**_After Label Encoding , Checking the values to verify there's no missing arguments in the `loan_status` column._**"
   ]
  },
  {
   "cell_type": "code",
   "execution_count": 15,
   "id": "5fb896dd",
   "metadata": {},
   "outputs": [
    {
     "data": {
      "text/plain": [
       "loan_status\n",
       "0    648\n",
       "1    168\n",
       "2     51\n",
       "3      1\n",
       "dtype: int64"
      ]
     },
     "execution_count": 15,
     "metadata": {},
     "output_type": "execute_result"
    }
   ],
   "source": [
    "df.groupby('loan_status').size()"
   ]
  },
  {
   "cell_type": "markdown",
   "id": "ae8c8868",
   "metadata": {},
   "source": [
    "## _Data Visualizations_\n",
    "**_Getting the correlation value from the needed columns from the dataset. using seaborn Heatmap & saving the PNG file_**"
   ]
  },
  {
   "cell_type": "code",
   "execution_count": 16,
   "id": "35f002bf",
   "metadata": {},
   "outputs": [
    {
     "data": {
      "text/plain": [
       "<AxesSubplot:>"
      ]
     },
     "execution_count": 16,
     "metadata": {},
     "output_type": "execute_result"
    },
    {
     "data": {
      "image/png": "[encoded data removed]",
      "text/plain": [
       "<Figure size 2000x1000 with 2 Axes>"
      ]
     },
     "metadata": {},
     "output_type": "display_data"
    }
   ],
   "source": [
    "corr = df.iloc[:,46:50].corr()\n",
    "sns.heatmap(corr,annot=True,cbar=True,square=True,cmap='viridis')"
   ]
  },
  {
   "cell_type": "markdown",
   "id": "eacb5962",
   "metadata": {},
   "source": [
    "**_Plotting the bar graph with loan_status and loan_duration and saving the Png file._**"
   ]
  },
  {
   "cell_type": "code",
   "execution_count": 17,
   "id": "7eb85489",
   "metadata": {},
   "outputs": [
    {
     "data": {
      "image/png": "[encoded data removed]",
      "text/plain": [
       "<Figure size 2000x1000 with 1 Axes>"
      ]
     },
     "metadata": {},
     "output_type": "display_data"
    }
   ],
   "source": [
    "plot = sns.barplot(x = 'loan_status',y = 'loan_duration',data = df,ci = None)\n",
    "plt.title('Loan Status vs Loan Duration')\n",
    "plt.savefig('Loan Status vs Loan Duration.png')\n",
    "plt.show()"
   ]
  },
  {
   "cell_type": "markdown",
   "id": "589e3df7",
   "metadata": {},
   "source": [
    "**_Plotting the Bar Graph with count of customers based on the `Loan_duration` and confirm that there are no null values and identify all the unique values from the `loan_duration` and saving the png file_**"
   ]
  },
  {
   "cell_type": "code",
   "execution_count": 18,
   "id": "fc26f255",
   "metadata": {},
   "outputs": [
    {
     "data": {
      "image/png": "[encoded data removed]",
      "text/plain": [
       "<Figure size 2000x1000 with 1 Axes>"
      ]
     },
     "metadata": {},
     "output_type": "display_data"
    }
   ],
   "source": [
    "plot = sns.countplot(x =df['loan_duration'],data = df)\n",
    "for p in plot.patches:\n",
    "    plot.annotate(p.get_height(),(p.get_x()+p.get_width()/2.0,p.get_height()),\n",
    "                  ha='center',va='center',xytext=(0,5),textcoords='offset points')\n",
    "plt.title('Loan Duration')\n",
    "plt.savefig('Loan Duration.png')\n",
    "plt.show()"
   ]
  },
  {
   "cell_type": "markdown",
   "id": "56bf80ef",
   "metadata": {},
   "source": [
    "**_Assigning the dependent and independent variables_**"
   ]
  },
  {
   "cell_type": "code",
   "execution_count": 19,
   "id": "6babc8b6",
   "metadata": {},
   "outputs": [],
   "source": [
    "x = df.iloc[:,46:49]\n",
    "y = df.iloc[:,49]"
   ]
  },
  {
   "cell_type": "markdown",
   "id": "dced891e",
   "metadata": {},
   "source": [
    "## _Data Preprocessing_\n",
    "**_Standardizing the independent variable of the dataset_**"
   ]
  },
  {
   "cell_type": "code",
   "execution_count": 20,
   "id": "f15dfe2f",
   "metadata": {},
   "outputs": [],
   "source": [
    "sc_x = StandardScaler()\n",
    "x = sc_x.fit_transform(x)"
   ]
  },
  {
   "cell_type": "markdown",
   "id": "595e02a9",
   "metadata": {},
   "source": [
    "## _Model Fitting_\n",
    "**_Defining the Function for the ML algorithms using GridSearchCV Algorithm and Predicting the Dependent Variable by fitting the given model and create the pickle file of the model with the given Algo_name. Further getting the Algorithm Name, Best Parameters of the algorithm, accuracy score in percentage format,mean absolute error ,mean squared error , rooted mean squared error ,classification report and confusion matrix between the predicted values and dependent test dataset._**"
   ]
  },
  {
   "cell_type": "code",
   "execution_count": 21,
   "id": "6d28fbb8",
   "metadata": {},
   "outputs": [],
   "source": [
    "def FitModel(x,y,algo_name,algorithm,gridSearchParams,cv):\n",
    "    np.random.seed(10)\n",
    "    x_train,x_test,y_train,y_test = train_test_split(x,y,test_size=0.2,random_state=51)\n",
    "    grid = GridSearchCV(estimator=algorithm,param_grid=gridSearchParams,scoring='accuracy',verbose=0,cv=cv,n_jobs=-1)\n",
    "    grid_result = grid.fit(x_train,y_train)\n",
    "    best_params = grid_result.best_params_\n",
    "    y_pred = grid_result.predict(x_test)\n",
    "    cm = confusion_matrix(y_test,y_pred)\n",
    "    pickle.dump(grid_result,open(algo_name,'wb'))\n",
    "    print(' Algorithm Name:',algo_name)\n",
    "    print('\\n Best Params:',best_params)\n",
    "    print('\\n Accuracy Score {} %'.format(100*accuracy_score(y_test,y_pred)))\n",
    "    print('\\n Mean Absolute Error:',mean_absolute_error(y_test,y_pred))\n",
    "    print('\\n Mean Squared Error:',mean_squared_error(y_test,y_pred))\n",
    "    print('\\n Rooted Mean Squared Error:',sqrt(mean_squared_error(y_test,y_pred)))\n",
    "    print('\\n Classification Report:\\n ',classification_report(y_test,y_pred))\n",
    "    print('\\n Confusion Matrix','\\n',cm)"
   ]
  },
  {
   "cell_type": "markdown",
   "id": "54ebf7ff",
   "metadata": {},
   "source": [
    "**_Running the function with empty parameters since the Logistic Regression model doesn't need any special parameters and fitting the Linear Regression Algorithm and getting the Algorithm Name, Best Parameters of the algorithm, accuracy score in percentage format,mean absolute error ,mean squared error , rooted mean squared error ,classification report and confusion matrix between the predicted values and dependent test dataset and also the pickle file with the name Logistic Regression._**"
   ]
  },
  {
   "cell_type": "code",
   "execution_count": 22,
   "id": "5248c719",
   "metadata": {},
   "outputs": [
    {
     "name": "stdout",
     "output_type": "stream",
     "text": [
      " Algorithm Name: Logistic Regression\n",
      "\n",
      " Best Params: {}\n",
      "\n",
      " Accuracy Score 98.27586206896551 %\n",
      "\n",
      " Mean Absolute Error: 0.017241379310344827\n",
      "\n",
      " Mean Squared Error: 0.017241379310344827\n",
      "\n",
      " Rooted Mean Squared Error: 0.13130643285972254\n",
      "\n",
      " Classification Report:\n",
      "                precision    recall  f1-score   support\n",
      "\n",
      "           0       0.99      0.98      0.99       127\n",
      "           1       0.94      0.97      0.95        30\n",
      "           2       1.00      1.00      1.00        17\n",
      "\n",
      "    accuracy                           0.98       174\n",
      "   macro avg       0.98      0.98      0.98       174\n",
      "weighted avg       0.98      0.98      0.98       174\n",
      "\n",
      "\n",
      " Confusion Matrix \n",
      " [[125   2   0]\n",
      " [  1  29   0]\n",
      " [  0   0  17]]\n"
     ]
    }
   ],
   "source": [
    "params = {}\n",
    "FitModel(x,y,'Logistic Regression',LogisticRegression(),params,cv=10)"
   ]
  },
  {
   "cell_type": "markdown",
   "id": "143dcdd2",
   "metadata": {},
   "source": [
    "**_*Running the function with some appropriate parameters and fitting the Decision Tree Classifier Algorithm and getting the Algorithm Name, Best Parameters of the algorithm, Accuracy Score in percentage format, Mean Absolute error, Mean Squared Error, Root Mean Squared error, Classification Report and Confusion Matrix  between the predicted values and dependent test dataset and also the pickle file with the name Decision Tree.*_**"
   ]
  },
  {
   "cell_type": "code",
   "execution_count": 23,
   "id": "d968f58f",
   "metadata": {
    "scrolled": false
   },
   "outputs": [
    {
     "name": "stdout",
     "output_type": "stream",
     "text": [
      " Algorithm Name: Decision Tree\n",
      "\n",
      " Best Params: {'criterion': 'entropy', 'max_depth': 4, 'max_features': 'sqrt', 'min_samples_leaf': 11, 'min_samples_split': 8}\n",
      "\n",
      " Accuracy Score 98.85057471264368 %\n",
      "\n",
      " Mean Absolute Error: 0.017241379310344827\n",
      "\n",
      " Mean Squared Error: 0.028735632183908046\n",
      "\n",
      " Rooted Mean Squared Error: 0.1695158759052026\n",
      "\n",
      " Classification Report:\n",
      "                precision    recall  f1-score   support\n",
      "\n",
      "           0       0.99      0.99      0.99       127\n",
      "           1       1.00      0.97      0.98        30\n",
      "           2       0.94      1.00      0.97        17\n",
      "\n",
      "    accuracy                           0.99       174\n",
      "   macro avg       0.98      0.99      0.98       174\n",
      "weighted avg       0.99      0.99      0.99       174\n",
      "\n",
      "\n",
      " Confusion Matrix \n",
      " [[126   0   1]\n",
      " [  1  29   0]\n",
      " [  0   0  17]]\n"
     ]
    }
   ],
   "source": [
    "params = {'criterion':['entropy','gini'],\n",
    "         'max_depth':[1,2,3,4],\n",
    "         'max_features':['auto','sqrt'],\n",
    "         'min_samples_split':[5,6,7,8],\n",
    "         'min_samples_leaf':[9,10,11,12]}\n",
    "FitModel(x,y,'Decision Tree',DecisionTreeClassifier(),params,cv=10)"
   ]
  },
  {
   "cell_type": "markdown",
   "id": "b4e86728",
   "metadata": {},
   "source": [
    "**_Running the function with some appropriate parameters and fitting the Random Forest Classifier Algorithm and getting the Algorithm Name, Best Parameters of the algorithm, Accuracy Score in percentage format, Mean Absolute error, Mean Squared Error, Root Mean Squared error, Classification Report and Confusion Matrix between the predicted values and dependent test dataset and also the pickle file with the name Random Forest._**"
   ]
  },
  {
   "cell_type": "code",
   "execution_count": 24,
   "id": "824cb563",
   "metadata": {},
   "outputs": [
    {
     "name": "stdout",
     "output_type": "stream",
     "text": [
      " Algorithm Name: Random Forest\n",
      "\n",
      " Best Params: {'criterion': 'entropy', 'max_depth': 4, 'max_features': 'sqrt', 'min_samples_leaf': 10, 'min_samples_split': 8, 'n_estimators': 111}\n",
      "\n",
      " Accuracy Score 99.42528735632183 %\n",
      "\n",
      " Mean Absolute Error: 0.005747126436781609\n",
      "\n",
      " Mean Squared Error: 0.005747126436781609\n",
      "\n",
      " Rooted Mean Squared Error: 0.07580980435789034\n",
      "\n",
      " Classification Report:\n",
      "                precision    recall  f1-score   support\n",
      "\n",
      "           0       0.99      1.00      1.00       127\n",
      "           1       1.00      0.97      0.98        30\n",
      "           2       1.00      1.00      1.00        17\n",
      "\n",
      "    accuracy                           0.99       174\n",
      "   macro avg       1.00      0.99      0.99       174\n",
      "weighted avg       0.99      0.99      0.99       174\n",
      "\n",
      "\n",
      " Confusion Matrix \n",
      " [[127   0   0]\n",
      " [  1  29   0]\n",
      " [  0   0  17]]\n"
     ]
    }
   ],
   "source": [
    "params = {'n_estimators':[111,222,333,444],\n",
    "          'criterion':['entropy','gini'],\n",
    "          'max_depth': [4],\n",
    "          'max_features': ['sqrt'],\n",
    "          'min_samples_leaf': [10], \n",
    "          'min_samples_split':[8]}\n",
    "FitModel(x,y,'Random Forest',RandomForestClassifier(),params,cv=10)"
   ]
  },
  {
   "cell_type": "markdown",
   "id": "d6f74616",
   "metadata": {},
   "source": [
    "**_Running the function with some appropriate parameters and fitting the KNeighbors Classifier Algorithm and getting the Algorithm Name, Best Parameters of the algorithm, Accuracy Score in percentage format, Mean Absolute error, Mean Squared Error, Root Mean Squared error, Classification Report and Confusion Matrix between the predicted values and dependent test dataset and also the pickle file with the name KNeighbors._**"
   ]
  },
  {
   "cell_type": "code",
   "execution_count": 25,
   "id": "af9b9b95",
   "metadata": {},
   "outputs": [
    {
     "name": "stdout",
     "output_type": "stream",
     "text": [
      " Algorithm Name: KNeighbors\n",
      "\n",
      " Best Params: {'n_neighbors': 3}\n",
      "\n",
      " Accuracy Score 99.42528735632183 %\n",
      "\n",
      " Mean Absolute Error: 0.005747126436781609\n",
      "\n",
      " Mean Squared Error: 0.005747126436781609\n",
      "\n",
      " Rooted Mean Squared Error: 0.07580980435789034\n",
      "\n",
      " Classification Report:\n",
      "                precision    recall  f1-score   support\n",
      "\n",
      "           0       1.00      0.99      1.00       127\n",
      "           1       0.97      1.00      0.98        30\n",
      "           2       1.00      1.00      1.00        17\n",
      "\n",
      "    accuracy                           0.99       174\n",
      "   macro avg       0.99      1.00      0.99       174\n",
      "weighted avg       0.99      0.99      0.99       174\n",
      "\n",
      "\n",
      " Confusion Matrix \n",
      " [[126   1   0]\n",
      " [  0  30   0]\n",
      " [  0   0  17]]\n"
     ]
    }
   ],
   "source": [
    "params = {'n_neighbors':[3,5,7,10,13]}\n",
    "FitModel(x,y,'KNeighbors',KNeighborsClassifier(),params,cv=10)"
   ]
  },
  {
   "cell_type": "markdown",
   "id": "055b2c3a",
   "metadata": {},
   "source": [
    "**_Running the function with some appropriate parameters and fitting the Support Vector Machine Classifier Algorithm and getting the Algorithm Name, Best Parameters of the algorithm, Accuracy Score in percentage format, Mean Absolute error, Mean Squared Error, Root Mean Squared error, Classification Report and Confusion Matrix between the predicted values and dependent test dataset and also the pickle file with the name SVC._**"
   ]
  },
  {
   "cell_type": "code",
   "execution_count": 26,
   "id": "be771038",
   "metadata": {},
   "outputs": [
    {
     "name": "stdout",
     "output_type": "stream",
     "text": [
      " Algorithm Name: SVC\n",
      "\n",
      " Best Params: {'C': 1, 'gamma': 1}\n",
      "\n",
      " Accuracy Score 99.42528735632183 %\n",
      "\n",
      " Mean Absolute Error: 0.005747126436781609\n",
      "\n",
      " Mean Squared Error: 0.005747126436781609\n",
      "\n",
      " Rooted Mean Squared Error: 0.07580980435789034\n",
      "\n",
      " Classification Report:\n",
      "                precision    recall  f1-score   support\n",
      "\n",
      "           0       1.00      0.99      1.00       127\n",
      "           1       0.97      1.00      0.98        30\n",
      "           2       1.00      1.00      1.00        17\n",
      "\n",
      "    accuracy                           0.99       174\n",
      "   macro avg       0.99      1.00      0.99       174\n",
      "weighted avg       0.99      0.99      0.99       174\n",
      "\n",
      "\n",
      " Confusion Matrix \n",
      " [[126   1   0]\n",
      " [  0  30   0]\n",
      " [  0   0  17]]\n"
     ]
    }
   ],
   "source": [
    "params = {'C':[0.1,1,100,1000],\n",
    "         'gamma':[0.001,0.01,0.1,1]}\n",
    "FitModel(x,y,'SVC',SVC(),params,cv=10)"
   ]
  },
  {
   "cell_type": "markdown",
   "id": "23c7005a",
   "metadata": {},
   "source": [
    "**_Running the function with some appropriate parameters and fitting the XG Boost Classifier Algorithm and getting the Algorithm Name, Best Parameters of the algorithm, Accuracy Score in percentage format, Mean Absolute error, Mean Squared Error, Root Mean Squared error, Classification Report and Confusion Matrix between the predicted values and dependent test dataset and also the pickle file with the name XG boost._**"
   ]
  },
  {
   "cell_type": "code",
   "execution_count": 27,
   "id": "05059a5d",
   "metadata": {},
   "outputs": [
    {
     "name": "stdout",
     "output_type": "stream",
     "text": [
      " Algorithm Name: XG Boost\n",
      "\n",
      " Best Params: {'n_estimators': 111}\n",
      "\n",
      " Accuracy Score 100.0 %\n",
      "\n",
      " Mean Absolute Error: 0.0\n",
      "\n",
      " Mean Squared Error: 0.0\n",
      "\n",
      " Rooted Mean Squared Error: 0.0\n",
      "\n",
      " Classification Report:\n",
      "                precision    recall  f1-score   support\n",
      "\n",
      "           0       1.00      1.00      1.00       127\n",
      "           1       1.00      1.00      1.00        30\n",
      "           2       1.00      1.00      1.00        17\n",
      "\n",
      "    accuracy                           1.00       174\n",
      "   macro avg       1.00      1.00      1.00       174\n",
      "weighted avg       1.00      1.00      1.00       174\n",
      "\n",
      "\n",
      " Confusion Matrix \n",
      " [[127   0   0]\n",
      " [  0  30   0]\n",
      " [  0   0  17]]\n"
     ]
    }
   ],
   "source": [
    "params = {'n_estimators':[111,222,333,444]}\n",
    "FitModel(x,y,'XG Boost',XGBClassifier(),params,cv=10)"
   ]
  },
  {
   "cell_type": "markdown",
   "id": "e7db83ba",
   "metadata": {},
   "source": [
    "**_Running the function with empty parameters since the Cat Boost Classifier model doesn't need any special parameters and fitting the Cat Boost Classifier and getting the Algorithm Name, Best Parameters of the algorithm, Accuracy Score in percentage format, Mean Absolute error, Mean Squared Error, Root Mean Squared error, Classification Report and Confusion Matrix between the predicted values and dependent test dataset and also the pickle file with the name Cat Boost._**"
   ]
  },
  {
   "cell_type": "code",
   "execution_count": 28,
   "id": "5ab08b37",
   "metadata": {},
   "outputs": [
    {
     "name": "stdout",
     "output_type": "stream",
     "text": [
      " Algorithm Name: Cat Boost\n",
      "\n",
      " Best Params: {}\n",
      "\n",
      " Accuracy Score 100.0 %\n",
      "\n",
      " Mean Absolute Error: 0.0\n",
      "\n",
      " Mean Squared Error: 0.0\n",
      "\n",
      " Rooted Mean Squared Error: 0.0\n",
      "\n",
      " Classification Report:\n",
      "                precision    recall  f1-score   support\n",
      "\n",
      "           0       1.00      1.00      1.00       127\n",
      "           1       1.00      1.00      1.00        30\n",
      "           2       1.00      1.00      1.00        17\n",
      "\n",
      "    accuracy                           1.00       174\n",
      "   macro avg       1.00      1.00      1.00       174\n",
      "weighted avg       1.00      1.00      1.00       174\n",
      "\n",
      "\n",
      " Confusion Matrix \n",
      " [[127   0   0]\n",
      " [  0  30   0]\n",
      " [  0   0  17]]\n"
     ]
    }
   ],
   "source": [
    "params = {}\n",
    "FitModel(x,y,'Cat Boost',CatBoostClassifier(verbose=0),params,cv=10)"
   ]
  },
  {
   "cell_type": "markdown",
   "id": "a30c5f92",
   "metadata": {},
   "source": [
    "**_Running the function with empty parameters since the Light GBM Classifier model doesn't need any special parameters and fitting the Light GBM Classifier and getting the Algorithm Name, Best Parameters of the algorithm, Accuracy Score in percentage format, Mean Absolute error, Mean Squared Error, Root Mean Squared error, Classification Report and Confusion Matrix between the predicted values and dependent test dataset and also the pickle file with the name Light GBM._**"
   ]
  },
  {
   "cell_type": "code",
   "execution_count": 29,
   "id": "3026c37d",
   "metadata": {},
   "outputs": [
    {
     "name": "stdout",
     "output_type": "stream",
     "text": [
      " Algorithm Name: Light GBM\n",
      "\n",
      " Best Params: {}\n",
      "\n",
      " Accuracy Score 99.42528735632183 %\n",
      "\n",
      " Mean Absolute Error: 0.005747126436781609\n",
      "\n",
      " Mean Squared Error: 0.005747126436781609\n",
      "\n",
      " Rooted Mean Squared Error: 0.07580980435789034\n",
      "\n",
      " Classification Report:\n",
      "                precision    recall  f1-score   support\n",
      "\n",
      "           0       1.00      0.99      1.00       127\n",
      "           1       0.97      1.00      0.98        30\n",
      "           2       1.00      1.00      1.00        17\n",
      "\n",
      "    accuracy                           0.99       174\n",
      "   macro avg       0.99      1.00      0.99       174\n",
      "weighted avg       0.99      0.99      0.99       174\n",
      "\n",
      "\n",
      " Confusion Matrix \n",
      " [[126   1   0]\n",
      " [  0  30   0]\n",
      " [  0   0  17]]\n"
     ]
    }
   ],
   "source": [
    "params = {}\n",
    "FitModel(x,y,'Light GBM',LGBMClassifier(),params,cv=10)"
   ]
  },
  {
   "cell_type": "markdown",
   "id": "71ad650e",
   "metadata": {},
   "source": [
    "## _Model Testing_\n",
    "**_Loading the pickle file with the algorithm which gives highest accuracy score_**"
   ]
  },
  {
   "cell_type": "code",
   "execution_count": 30,
   "id": "25b571ca",
   "metadata": {},
   "outputs": [],
   "source": [
    "model = pickle.load(open('XG Boost','rb'))"
   ]
  },
  {
   "cell_type": "markdown",
   "id": "24ce45bb",
   "metadata": {},
   "source": [
    "**_Predicting the dependent variable of the whole data using the loaded pickle file and getting the Best Parameters of the algorithm, Accuracy Score in percentage format, Mean Absolute error, Mean Squared Error, Root Mean Squared error, Classification Report and Confusion Matrix between the predicted values and dependent dataset_**"
   ]
  },
  {
   "cell_type": "code",
   "execution_count": 31,
   "id": "783ae7a9",
   "metadata": {},
   "outputs": [
    {
     "name": "stdout",
     "output_type": "stream",
     "text": [
      "\n",
      " Accuracy Score 100.0 %\n",
      "\n",
      " Mean Absolute Error: 0.0\n",
      "\n",
      " Mean Squared Error: 0.0\n",
      "\n",
      " Rooted Mean Squared Error: 0.0\n",
      "\n",
      " Classification Report:\n",
      "                precision    recall  f1-score   support\n",
      "\n",
      "           0       1.00      1.00      1.00       648\n",
      "           1       1.00      1.00      1.00       168\n",
      "           2       1.00      1.00      1.00        51\n",
      "           3       1.00      1.00      1.00         1\n",
      "\n",
      "    accuracy                           1.00       868\n",
      "   macro avg       1.00      1.00      1.00       868\n",
      "weighted avg       1.00      1.00      1.00       868\n",
      "\n",
      "\n",
      " Confusion Matrix \n",
      " [[648   0   0   0]\n",
      " [  0 168   0   0]\n",
      " [  0   0  51   0]\n",
      " [  0   0   0   1]]\n"
     ]
    }
   ],
   "source": [
    "pred = model.predict(x)\n",
    "print('\\n Accuracy Score {} %'.format(100*accuracy_score(y,pred)))\n",
    "print('\\n Mean Absolute Error:',mean_absolute_error(y,pred))\n",
    "print('\\n Mean Squared Error:',mean_squared_error(y,pred))\n",
    "print('\\n Rooted Mean Squared Error:',sqrt(mean_squared_error(y,pred)))\n",
    "print('\\n Classification Report:\\n ',classification_report(y,pred))\n",
    "print('\\n Confusion Matrix','\\n',confusion_matrix(y,pred))"
   ]
  },
  {
   "cell_type": "markdown",
   "id": "b820528e",
   "metadata": {},
   "source": [
    "**_Making the Predicted value as a new dataframe with new column name as `predicted loan status (Approx.)` and concating it with the original data, so that we can able to compare the differences between Predicted Loan Status and Original Loan Status._**"
   ]
  },
  {
   "cell_type": "code",
   "execution_count": 32,
   "id": "e4dcef47",
   "metadata": {},
   "outputs": [],
   "source": [
    "prediction = pd.DataFrame(pred,columns=['Prediction Loan Status(Approx.)'])\n",
    "pred_df = pd.concat([df,prediction],axis=1)"
   ]
  },
  {
   "cell_type": "markdown",
   "id": "5a6f6558",
   "metadata": {},
   "source": [
    "**_Exporting the Data With Predicted loan status to a csv file_**"
   ]
  },
  {
   "cell_type": "code",
   "execution_count": 33,
   "id": "8e3c7104",
   "metadata": {},
   "outputs": [],
   "source": [
    "pred_df.to_csv('Prediction Loan Status Data.csv',index=False)"
   ]
  }
 ],
 "metadata": {
  "kernelspec": {
   "display_name": "Python 3 (ipykernel)",
   "language": "python",
   "name": "python3"
  },
  "language_info": {
   "codemirror_mode": {
    "name": "ipython",
    "version": 3
   },
   "file_extension": ".py",
   "mimetype": "text/x-python",
   "name": "python",
   "nbconvert_exporter": "python",
   "pygments_lexer": "ipython3",
   "version": "3.9.13"
  }
 },
 "nbformat": 4,
 "nbformat_minor": 5
}
